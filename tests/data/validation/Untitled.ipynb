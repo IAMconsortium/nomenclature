{
 "cells": [
  {
   "cell_type": "code",
   "execution_count": 1,
   "id": "e7b2b9b1-3e81-480f-823b-32e5d6e52f2a",
   "metadata": {},
   "outputs": [],
   "source": [
    "import pandas as pd\n",
    "import pyam\n",
    "import nomenclature"
   ]
  },
  {
   "cell_type": "code",
   "execution_count": 2,
   "id": "3b021ffb-743f-48c1-8bc4-447f18f0e6da",
   "metadata": {},
   "outputs": [],
   "source": [
    "import logging"
   ]
  },
  {
   "cell_type": "code",
   "execution_count": 3,
   "id": "3e640186-93b2-40e2-8a91-b094f9e053d2",
   "metadata": {},
   "outputs": [],
   "source": [
    "logger = logging.getLogger(__name__)"
   ]
  },
  {
   "cell_type": "code",
   "execution_count": 4,
   "id": "a672ea04-cf92-4018-bf75-88c01e3de790",
   "metadata": {},
   "outputs": [],
   "source": [
    "from nomenclature.processor.utils import get_relative_path"
   ]
  },
  {
   "cell_type": "code",
   "execution_count": 5,
   "id": "be399c88-0e2b-4079-85f5-6780e49d68bf",
   "metadata": {},
   "outputs": [],
   "source": [
    "TEST_DF = pd.DataFrame(\n",
    "    [\n",
    "        [\"model_a\", \"scen_a\", \"World\", \"Primary Energy\", \"EJ/yr\", 1, 6.0],\n",
    "        [\"model_a\", \"scen_a\", \"World\", \"Primary Energy|Coal\", \"EJ/yr\", 0.5, 3],\n",
    "        [\"model_a\", \"scen_b\", \"World\", \"Primary Energy\", \"EJ/yr\", 2, 7],\n",
    "    ],\n",
    "    columns=pyam.IAMC_IDX + [2005, 2010],\n",
    ")\n",
    "df = pyam.IamDataFrame(TEST_DF)"
   ]
  },
  {
   "cell_type": "code",
   "execution_count": 6,
   "id": "35d319e2-5607-4ebd-941e-e53522f4d599",
   "metadata": {},
   "outputs": [],
   "source": [
    "dsd = nomenclature.DataStructureDefinition(\"definitions/\")"
   ]
  },
  {
   "cell_type": "code",
   "execution_count": 7,
   "id": "edc41204-b82a-4e58-a0d5-138a581c97fb",
   "metadata": {},
   "outputs": [],
   "source": [
    "processor = nomenclature.processor.DataValidator.from_file(\n",
    "    \"validate_data/validate_data_fails.yaml\"\n",
    ")"
   ]
  },
  {
   "cell_type": "code",
   "execution_count": 8,
   "id": "0326423a-32c0-4b25-b974-a2597ca0ded5",
   "metadata": {},
   "outputs": [],
   "source": [
    "processor.validate_with_definition(dsd)"
   ]
  },
  {
   "cell_type": "code",
   "execution_count": 9,
   "id": "4cff6cf3-58f2-423a-8dba-4b84b083da6d",
   "metadata": {},
   "outputs": [],
   "source": [
    "pd.set_option(\"display.width\", 180)"
   ]
  },
  {
   "cell_type": "code",
   "execution_count": 10,
   "id": "80814f71-fe8e-47bb-8389-a54e7ff9041f",
   "metadata": {},
   "outputs": [
    {
     "name": "stderr",
     "output_type": "stream",
     "text": [
      "2024-08-19 10:10:33 ERROR    Failed data validation (file validate_data/validate_data_fails.yaml):\n",
      "Criteria: {'variable': ['Primary Energy'], 'upper_bound': 5.0}\n",
      "     model scenario region        variable   unit  year  value  upper_bound\n",
      "0  model_a   scen_a  World  Primary Energy  EJ/yr  2010    6.0          5.0\n",
      "1  model_a   scen_b  World  Primary Energy  EJ/yr  2010    7.0          5.0\n",
      "\n",
      "Criteria: {'variable': ['Primary Energy|Coal'], 'lower_bound': 2.0}\n",
      "     model scenario region             variable   unit  year  value  lower_bound\n",
      "0  model_a   scen_a  World  Primary Energy|Coal  EJ/yr  2005    0.5          2.0\n",
      "\n",
      "Criteria: {'variable': ['Primary Energy'], 'year': [2005], 'upper_bound': 1.9, 'lower_bound': 1.1}\n",
      "     model scenario region        variable   unit  year  value  upper_bound  lower_bound\n",
      "0  model_a   scen_a  World  Primary Energy  EJ/yr  2005    1.0          1.9          1.1\n",
      "1  model_a   scen_b  World  Primary Energy  EJ/yr  2005    2.0          1.9          1.1\n",
      "\n"
     ]
    },
    {
     "ename": "ValueError",
     "evalue": "Data validation failed. Please check the log for details.",
     "output_type": "error",
     "traceback": [
      "\u001b[0;31m---------------------------------------------------------------------------\u001b[0m",
      "\u001b[0;31mValueError\u001b[0m                                Traceback (most recent call last)",
      "Cell \u001b[0;32mIn[10], line 1\u001b[0m\n\u001b[0;32m----> 1\u001b[0m \u001b[43mprocessor\u001b[49m\u001b[38;5;241;43m.\u001b[39;49m\u001b[43mapply\u001b[49m\u001b[43m(\u001b[49m\u001b[43mdf\u001b[49m\u001b[43m)\u001b[49m\n",
      "File \u001b[0;32m~/GitHub/nomenclature/nomenclature/processor/data_validator.py:61\u001b[0m, in \u001b[0;36mDataValidator.apply\u001b[0;34m(self, df)\u001b[0m\n\u001b[1;32m     58\u001b[0m         error \u001b[38;5;241m=\u001b[39m \u001b[38;5;28;01mTrue\u001b[39;00m\n\u001b[1;32m     60\u001b[0m     \u001b[38;5;28;01mif\u001b[39;00m error:\n\u001b[0;32m---> 61\u001b[0m         \u001b[38;5;28;01mraise\u001b[39;00m \u001b[38;5;167;01mValueError\u001b[39;00m(\n\u001b[1;32m     62\u001b[0m             \u001b[38;5;124m\"\u001b[39m\u001b[38;5;124mData validation failed. Please check the log for details.\u001b[39m\u001b[38;5;124m\"\u001b[39m\n\u001b[1;32m     63\u001b[0m         )\n\u001b[1;32m     64\u001b[0m \u001b[38;5;28;01mreturn\u001b[39;00m df\n",
      "\u001b[0;31mValueError\u001b[0m: Data validation failed. Please check the log for details."
     ]
    }
   ],
   "source": [
    "processor.apply(df)"
   ]
  },
  {
   "cell_type": "code",
   "execution_count": null,
   "id": "2d910ec0-44a6-47da-9e2d-d4d5390d40b5",
   "metadata": {},
   "outputs": [],
   "source": []
  },
  {
   "cell_type": "code",
   "execution_count": null,
   "id": "00cee2ef-c1c1-46e9-9e04-5e662e827904",
   "metadata": {},
   "outputs": [],
   "source": []
  },
  {
   "cell_type": "code",
   "execution_count": null,
   "id": "ac27a3ed-9e85-4426-92ff-9b6eeccc79aa",
   "metadata": {},
   "outputs": [],
   "source": []
  },
  {
   "cell_type": "code",
   "execution_count": null,
   "id": "b4482a0e-2743-4b73-9782-16648189c4e1",
   "metadata": {},
   "outputs": [],
   "source": []
  },
  {
   "cell_type": "code",
   "execution_count": null,
   "id": "8b8047fa-58a9-4fef-a670-ad4f7f3134a5",
   "metadata": {},
   "outputs": [],
   "source": [
    "x.dict"
   ]
  },
  {
   "cell_type": "code",
   "execution_count": null,
   "id": "ba8368e4-c66b-47ca-bd2d-4dcb79d3dd24",
   "metadata": {},
   "outputs": [],
   "source": [
    "y = df.validate(year=2010, upper_bound=2.5)"
   ]
  },
  {
   "cell_type": "code",
   "execution_count": null,
   "id": "3cac9da3-6151-44c4-82b3-21209e983c6e",
   "metadata": {},
   "outputs": [],
   "source": [
    "y[\"upper_bound\"] = 2.5"
   ]
  },
  {
   "cell_type": "code",
   "execution_count": null,
   "id": "2cdb1852-86ec-40c9-ab5b-396155481290",
   "metadata": {},
   "outputs": [],
   "source": [
    "y"
   ]
  },
  {
   "cell_type": "code",
   "execution_count": null,
   "id": "c96c95a7-7d76-445b-bcf2-1311918f4669",
   "metadata": {},
   "outputs": [],
   "source": [
    "df.validate(**x.dict())"
   ]
  },
  {
   "cell_type": "code",
   "execution_count": null,
   "id": "d36ceae3-470b-43de-85e8-57a3e2348802",
   "metadata": {},
   "outputs": [],
   "source": [
    "x = processor.criteria_items[0]"
   ]
  },
  {
   "cell_type": "code",
   "execution_count": null,
   "id": "e1fddc65-2f9d-4bf6-9b30-ad8d03251cae",
   "metadata": {},
   "outputs": [],
   "source": [
    "dict(item for item in x.model_dump().items() if item[1] is not None)"
   ]
  },
  {
   "cell_type": "code",
   "execution_count": null,
   "id": "b9c67a4a-ad77-4c3f-a916-8b0b473086d5",
   "metadata": {},
   "outputs": [],
   "source": [
    "x.get_filters()"
   ]
  },
  {
   "cell_type": "code",
   "execution_count": null,
   "id": "54d69a12-ce0e-4976-ba92-42d41b939f29",
   "metadata": {},
   "outputs": [],
   "source": [
    "failed_validation_data = df.validate(**item.dict())"
   ]
  },
  {
   "cell_type": "code",
   "execution_count": null,
   "id": "a6fb4fc3-b4f9-48bb-b105-9d64244513fd",
   "metadata": {},
   "outputs": [],
   "source": [
    "?pyam.logging.adjust_log_level"
   ]
  },
  {
   "cell_type": "code",
   "execution_count": null,
   "id": "c1f37a28-4a48-4570-afaf-8b83e0979bd2",
   "metadata": {},
   "outputs": [],
   "source": [
    "item.dict()"
   ]
  },
  {
   "cell_type": "code",
   "execution_count": null,
   "id": "90987d27-347a-4f37-a4b9-48634a7f11b2",
   "metadata": {},
   "outputs": [],
   "source": [
    "self = processor\n",
    "\n",
    "error = False\n",
    "\n",
    "for item in self.criteria_items:\n",
    "    with pyam.logging.adjust_log_level():\n",
    "        failed_validation_data = df.validate(**item.dict())\n",
    "    if not failed_validation_data.empty:\n",
    "        logger.error(\n",
    "            \"Failed data validation.\\nFile: %s\\n\\n%s\",\n",
    "            get_relative_path(self.file),\n",
    "            failed_validation_data,\n",
    "        )\n",
    "        error = True\n",
    "\n",
    "if error:\n",
    "    raise ValueError(\"Failed data validation. Please check the log for details.\")"
   ]
  },
  {
   "cell_type": "code",
   "execution_count": null,
   "id": "d4b7b493-8315-47f7-9965-8ca9731f911e",
   "metadata": {},
   "outputs": [],
   "source": []
  }
 ],
 "metadata": {
  "kernelspec": {
   "display_name": "Python 3 (ipykernel)",
   "language": "python",
   "name": "python3"
  },
  "language_info": {
   "codemirror_mode": {
    "name": "ipython",
    "version": 3
   },
   "file_extension": ".py",
   "mimetype": "text/x-python",
   "name": "python",
   "nbconvert_exporter": "python",
   "pygments_lexer": "ipython3",
   "version": "3.12.2"
  }
 },
 "nbformat": 4,
 "nbformat_minor": 5
}
