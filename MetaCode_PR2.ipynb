{
 "cells": [
  {
   "cell_type": "code",
   "execution_count": 22,
   "metadata": {},
   "outputs": [],
   "source": [
    "import pandas as pd\n",
    "import pyam \n",
    "from nomenclature.codelist import MetaCodeList\n",
    "from pathlib import Path"
   ]
  },
  {
   "cell_type": "code",
   "execution_count": 23,
   "metadata": {},
   "outputs": [],
   "source": [
    "def _check_if_values_allowed(df: pyam.IamDataFrame, meta_indicator, meta_code_list: MetaCodeList) -> pyam.IamDataFrame:\n",
    "    not_allowed = []\n",
    "    for value in df.meta[meta_indicator].values:\n",
    "        if value not in meta_code_list.mapping[meta_indicator].allowed_values:\n",
    "            not_allowed.append(value)\n",
    "    if not_allowed:\n",
    "        raise ValueError(f\"{not_allowed} indicator value(s) in the {meta_indicator} column are not allowed\")\n",
    "    return df"
   ]
  },
  {
   "cell_type": "code",
   "execution_count": 24,
   "metadata": {},
   "outputs": [],
   "source": [
    "def validate_meta_indicators(df: pyam.IamDataFrame, path: Path(\"**/*\")) -> pyam.IamDataFrame:\n",
    "    meta_code_list = MetaCodeList.from_directory(name='Meta', path=path)\n",
    "    for meta_indicator in df.meta.columns:\n",
    "        if meta_indicator in meta_code_list.mapping:\n",
    "            _check_if_values_allowed(df=df, meta_indicator=meta_indicator, meta_code_list=meta_code_list)\n",
    "            return df\n",
    "    raise ValueError(f\"There are no recognized meta_indicators (besides exclude) in IamDataFrame\")"
   ]
  },
  {
   "cell_type": "code",
   "execution_count": 25,
   "metadata": {},
   "outputs": [
    {
     "data": {
      "text/plain": [
       "<class 'pyam.core.IamDataFrame'>\n",
       "Index:\n",
       " * model    : model_a (1)\n",
       " * scenario : scen_a, scen_b (2)\n",
       "Timeseries data coordinates:\n",
       "   region   : World (1)\n",
       "   variable : Primary Energy, Primary Energy|Coal (2)\n",
       "   unit     : EJ/yr (1)\n",
       "   year     : 2005, 2010 (2)\n",
       "Meta indicators:\n",
       "   exclude (bool) False (1)"
      ]
     },
     "execution_count": 25,
     "metadata": {},
     "output_type": "execute_result"
    }
   ],
   "source": [
    "TEST_YEARS = [2005, 2010]\n",
    "DF = pd.DataFrame(\n",
    "    [\n",
    "        [\"model_a\", \"scen_a\", \"World\", \"Primary Energy\", \"EJ/yr\", 1, 6.0],\n",
    "        [\"model_a\", \"scen_a\", \"World\", \"Primary Energy|Coal\", \"EJ/yr\", 0.5, 3],\n",
    "        [\"model_a\", \"scen_b\", \"World\", \"Primary Energy\", \"EJ/yr\", 2, 7],\n",
    "    ],\n",
    "    columns=pyam.IAMC_IDX + TEST_YEARS,\n",
    ")\n",
    "path= Path(\"tests/data/definitions/meta\")\n",
    "\n",
    "\n",
    "df=pyam.IamDataFrame(DF)\n",
    "validate_meta_indicators(df=df, path=path)"
   ]
  }
 ],
 "metadata": {
  "kernelspec": {
   "display_name": "Python 3",
   "language": "python",
   "name": "python3"
  },
  "language_info": {
   "codemirror_mode": {
    "name": "ipython",
    "version": 3
   },
   "file_extension": ".py",
   "mimetype": "text/x-python",
   "name": "python",
   "nbconvert_exporter": "python",
   "pygments_lexer": "ipython3",
   "version": "3.10.10"
  },
  "orig_nbformat": 4
 },
 "nbformat": 4,
 "nbformat_minor": 2
}
