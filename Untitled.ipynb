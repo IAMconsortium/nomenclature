{
 "cells": [
  {
   "cell_type": "code",
   "execution_count": 1,
   "id": "4504143b",
   "metadata": {},
   "outputs": [
    {
     "data": {
      "application/javascript": [
       "IPython.OutputArea.prototype._should_scroll = function(lines) { return false; }"
      ],
      "text/plain": [
       "<IPython.core.display.Javascript object>"
      ]
     },
     "metadata": {},
     "output_type": "display_data"
    }
   ],
   "source": [
    "import pandas as pd\n",
    "import pyam\n",
    "import nomenclature"
   ]
  },
  {
   "cell_type": "code",
   "execution_count": 2,
   "id": "a11bdbf1",
   "metadata": {},
   "outputs": [],
   "source": [
    "nc = nomenclature.Nomenclature(\"tests/data/validation_nc/\")"
   ]
  },
  {
   "cell_type": "code",
   "execution_count": 3,
   "id": "df182457",
   "metadata": {},
   "outputs": [
    {
     "data": {
      "text/plain": [
       "{'Primary Energy': {'definition': 'Total primary energy consumption', 'unit': 'EJ/yr', 'file': 'tests/data/validation_nc/variables/variables.yaml'}, 'Primary Energy|Coal': {'definition': 'Primary energy consumption of coal', 'unit': 'EJ/yr', 'file': 'tests/data/validation_nc/variables/variables.yaml'}, 'Share|Coal': {'definition': 'Share of coal in the total primary energy mix', 'unit': None, 'file': 'tests/data/validation_nc/variables/variables.yaml'}}"
      ]
     },
     "execution_count": 3,
     "metadata": {},
     "output_type": "execute_result"
    }
   ],
   "source": [
    "nc.variable"
   ]
  },
  {
   "cell_type": "code",
   "execution_count": 7,
   "id": "bf357693",
   "metadata": {},
   "outputs": [
    {
     "data": {
      "text/html": [
       "<div>\n",
       "<style scoped>\n",
       "    .dataframe tbody tr th:only-of-type {\n",
       "        vertical-align: middle;\n",
       "    }\n",
       "\n",
       "    .dataframe tbody tr th {\n",
       "        vertical-align: top;\n",
       "    }\n",
       "\n",
       "    .dataframe thead th {\n",
       "        text-align: right;\n",
       "    }\n",
       "</style>\n",
       "<table border=\"1\" class=\"dataframe\">\n",
       "  <thead>\n",
       "    <tr style=\"text-align: right;\">\n",
       "      <th></th>\n",
       "      <th>Variable</th>\n",
       "      <th>Definition</th>\n",
       "      <th>Unit</th>\n",
       "    </tr>\n",
       "  </thead>\n",
       "  <tbody>\n",
       "    <tr>\n",
       "      <th>0</th>\n",
       "      <td>Primary Energy</td>\n",
       "      <td>Total primary energy consumption</td>\n",
       "      <td>EJ/yr</td>\n",
       "    </tr>\n",
       "    <tr>\n",
       "      <th>1</th>\n",
       "      <td>Primary Energy|Coal</td>\n",
       "      <td>Primary energy consumption of coal</td>\n",
       "      <td>EJ/yr</td>\n",
       "    </tr>\n",
       "    <tr>\n",
       "      <th>2</th>\n",
       "      <td>Share|Coal</td>\n",
       "      <td>Share of coal in the total primary energy mix</td>\n",
       "      <td>None</td>\n",
       "    </tr>\n",
       "  </tbody>\n",
       "</table>\n",
       "</div>"
      ],
      "text/plain": [
       "              Variable                                     Definition   Unit\n",
       "0       Primary Energy               Total primary energy consumption  EJ/yr\n",
       "1  Primary Energy|Coal             Primary energy consumption of coal  EJ/yr\n",
       "2           Share|Coal  Share of coal in the total primary energy mix   None"
      ]
     },
     "execution_count": 7,
     "metadata": {},
     "output_type": "execute_result"
    }
   ],
   "source": [
    "df = (\n",
    "    pd.DataFrame.from_dict(nc.variable, orient=\"index\")\n",
    "    .reset_index()\n",
    "    .rename(columns={\"index\": \"variable\"})\n",
    "    .drop(columns=\"file\")\n",
    ")\n",
    "df.rename(columns={c: str(c).title() for c in df.columns}, inplace=True)\n",
    "df"
   ]
  },
  {
   "cell_type": "code",
   "execution_count": 9,
   "id": "ebf5a55a",
   "metadata": {},
   "outputs": [],
   "source": [
    "from pyam.utils import write_sheet"
   ]
  },
  {
   "cell_type": "code",
   "execution_count": 11,
   "id": "894fc9d6",
   "metadata": {},
   "outputs": [],
   "source": [
    "def to_excel(excel_writer, sheet_name=\"variable_definitions\"):\n",
    "\n",
    "    close = False\n",
    "    if not isinstance(excel_writer, pd.ExcelWriter):\n",
    "        close = True\n",
    "        excel_writer = pd.ExcelWriter(excel_writer, engine=\"openpyxl\")\n",
    "\n",
    "    # write definitions to sheet\n",
    "    df = (\n",
    "        pd.DataFrame.from_dict(nc.variable, orient=\"index\")\n",
    "        .reset_index()\n",
    "        .rename(columns={\"index\": \"variable\"})\n",
    "        .drop(columns=\"file\")\n",
    "    )\n",
    "    df.rename(columns={c: str(c).title() for c in df.columns}, inplace=True)\n",
    "\n",
    "    write_sheet(excel_writer, sheet_name, df)\n",
    "\n",
    "    # close the file if `excel_writer` arg was a file name\n",
    "    if close:\n",
    "        excel_writer.close()"
   ]
  },
  {
   "cell_type": "code",
   "execution_count": 14,
   "id": "3f26005b",
   "metadata": {},
   "outputs": [],
   "source": [
    "to_excel(\"foo.xlsx\")"
   ]
  },
  {
   "cell_type": "code",
   "execution_count": 8,
   "id": "fa0ebdce",
   "metadata": {},
   "outputs": [
    {
     "ename": "AttributeError",
     "evalue": "'str' object has no attribute 'sheets'",
     "output_type": "error",
     "traceback": [
      "\u001b[0;31m---------------------------------------------------------------------------\u001b[0m",
      "\u001b[0;31mAttributeError\u001b[0m                            Traceback (most recent call last)",
      "\u001b[0;32m<ipython-input-8-d6712bff8244>\u001b[0m in \u001b[0;36m<module>\u001b[0;34m\u001b[0m\n\u001b[0;32m----> 1\u001b[0;31m \u001b[0mpyam\u001b[0m\u001b[0;34m.\u001b[0m\u001b[0mutils\u001b[0m\u001b[0;34m.\u001b[0m\u001b[0mwrite_sheet\u001b[0m\u001b[0;34m(\u001b[0m\u001b[0;34m\"foo.xlsx\"\u001b[0m\u001b[0;34m,\u001b[0m \u001b[0;34m\"variable_definitons\"\u001b[0m\u001b[0;34m,\u001b[0m \u001b[0mdf\u001b[0m\u001b[0;34m)\u001b[0m\u001b[0;34m\u001b[0m\u001b[0;34m\u001b[0m\u001b[0m\n\u001b[0m",
      "\u001b[0;32m~/GitHub/pyam/pyam/utils.py\u001b[0m in \u001b[0;36mwrite_sheet\u001b[0;34m(writer, name, df, index)\u001b[0m\n\u001b[1;32m    119\u001b[0m         \u001b[0mdf\u001b[0m \u001b[0;34m=\u001b[0m \u001b[0mdf\u001b[0m\u001b[0;34m.\u001b[0m\u001b[0mreset_index\u001b[0m\u001b[0;34m(\u001b[0m\u001b[0;34m)\u001b[0m\u001b[0;34m\u001b[0m\u001b[0;34m\u001b[0m\u001b[0m\n\u001b[1;32m    120\u001b[0m     \u001b[0mdf\u001b[0m\u001b[0;34m.\u001b[0m\u001b[0mto_excel\u001b[0m\u001b[0;34m(\u001b[0m\u001b[0mwriter\u001b[0m\u001b[0;34m,\u001b[0m \u001b[0mname\u001b[0m\u001b[0;34m,\u001b[0m \u001b[0mindex\u001b[0m\u001b[0;34m=\u001b[0m\u001b[0;32mFalse\u001b[0m\u001b[0;34m)\u001b[0m\u001b[0;34m\u001b[0m\u001b[0;34m\u001b[0m\u001b[0m\n\u001b[0;32m--> 121\u001b[0;31m     \u001b[0mworksheet\u001b[0m \u001b[0;34m=\u001b[0m \u001b[0mwriter\u001b[0m\u001b[0;34m.\u001b[0m\u001b[0msheets\u001b[0m\u001b[0;34m[\u001b[0m\u001b[0mname\u001b[0m\u001b[0;34m]\u001b[0m\u001b[0;34m\u001b[0m\u001b[0;34m\u001b[0m\u001b[0m\n\u001b[0m\u001b[1;32m    122\u001b[0m     \u001b[0;32mfor\u001b[0m \u001b[0mi\u001b[0m\u001b[0;34m,\u001b[0m \u001b[0mcol\u001b[0m \u001b[0;32min\u001b[0m \u001b[0menumerate\u001b[0m\u001b[0;34m(\u001b[0m\u001b[0mdf\u001b[0m\u001b[0;34m.\u001b[0m\u001b[0mcolumns\u001b[0m\u001b[0;34m)\u001b[0m\u001b[0;34m:\u001b[0m\u001b[0;34m\u001b[0m\u001b[0;34m\u001b[0m\u001b[0m\n\u001b[1;32m    123\u001b[0m         \u001b[0;32mif\u001b[0m \u001b[0mdf\u001b[0m\u001b[0;34m.\u001b[0m\u001b[0mdtypes\u001b[0m\u001b[0;34m[\u001b[0m\u001b[0mcol\u001b[0m\u001b[0;34m]\u001b[0m\u001b[0;34m.\u001b[0m\u001b[0mname\u001b[0m\u001b[0;34m.\u001b[0m\u001b[0mstartswith\u001b[0m\u001b[0;34m(\u001b[0m\u001b[0;34m(\u001b[0m\u001b[0;34m\"float\"\u001b[0m\u001b[0;34m,\u001b[0m \u001b[0;34m\"int\"\u001b[0m\u001b[0;34m)\u001b[0m\u001b[0;34m)\u001b[0m\u001b[0;34m:\u001b[0m\u001b[0;34m\u001b[0m\u001b[0;34m\u001b[0m\u001b[0m\n",
      "\u001b[0;31mAttributeError\u001b[0m: 'str' object has no attribute 'sheets'"
     ]
    }
   ],
   "source": [
    "pyam.utils.write_sheet(\"foo.xlsx\", df)"
   ]
  },
  {
   "cell_type": "code",
   "execution_count": null,
   "id": "be6f7892",
   "metadata": {},
   "outputs": [],
   "source": []
  }
 ],
 "metadata": {
  "kernelspec": {
   "display_name": "Python 3",
   "language": "python",
   "name": "python3"
  },
  "language_info": {
   "codemirror_mode": {
    "name": "ipython",
    "version": 3
   },
   "file_extension": ".py",
   "mimetype": "text/x-python",
   "name": "python",
   "nbconvert_exporter": "python",
   "pygments_lexer": "ipython3",
   "version": "3.9.4"
  }
 },
 "nbformat": 4,
 "nbformat_minor": 5
}
